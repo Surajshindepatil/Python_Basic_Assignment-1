{
 "cells": [
  {
   "cell_type": "markdown",
   "id": "557a4b57-f215-4376-896f-106c443729f8",
   "metadata": {},
   "source": [
    "Python Basic Variable"
   ]
  },
  {
   "cell_type": "code",
   "execution_count": 1,
   "id": "b45d1662-aaa6-4912-88cb-d8ab9fcde7be",
   "metadata": {},
   "outputs": [
    {
     "name": "stdout",
     "output_type": "stream",
     "text": [
      "Before Swap:\n",
      "The value of x : 10 The value of y : 15\n",
      "After Swap:\n",
      "The value of x : 15 The value of y : 10\n"
     ]
    }
   ],
   "source": [
    "#Q1.\n",
    "x = 10\n",
    "y = 15\n",
    "\n",
    "print(\"Before Swap:\")\n",
    "print(\"The value of x :\",x, \"The value of y :\",y)\n",
    "\n",
    "x, y = y, x\n",
    "\n",
    "print(\"After Swap:\")\n",
    "print(\"The value of x :\",x, \"The value of y :\",y)"
   ]
  },
  {
   "cell_type": "code",
   "execution_count": 2,
   "id": "cb1689e1-eecf-48d8-aa4d-fc2763c22f29",
   "metadata": {},
   "outputs": [
    {
     "name": "stdin",
     "output_type": "stream",
     "text": [
      "Enter the length of rectangle: 10\n",
      "Enter the width of rectangle: 10\n"
     ]
    },
    {
     "name": "stdout",
     "output_type": "stream",
     "text": [
      "The area of rectangle:  100\n"
     ]
    }
   ],
   "source": [
    "#Q2.\n",
    "l = (int(input(\"Enter the length of rectangle:\")))\n",
    "w = (int(input(\"Enter the width of rectangle:\")))\n",
    "\n",
    "area = l * w\n",
    "\n",
    "print(\"The area of rectangle: \",area)"
   ]
  },
  {
   "cell_type": "code",
   "execution_count": 3,
   "id": "760da433-bf91-40e3-ab2d-8b3b108b26d2",
   "metadata": {},
   "outputs": [
    {
     "name": "stdin",
     "output_type": "stream",
     "text": [
      "Enter the temperature: 32\n"
     ]
    },
    {
     "name": "stdout",
     "output_type": "stream",
     "text": [
      "The temperature Celcius to fahrenheit : 89.6\n"
     ]
    }
   ],
   "source": [
    "#Q3.\n",
    "celcius = (int(input(\"Enter the temperature:\")))\n",
    "\n",
    "fahrenheit = (celcius * 9/5) + 32 \n",
    "\n",
    "print(\"The temperature Celcius to fahrenheit :\",fahrenheit)"
   ]
  },
  {
   "cell_type": "code",
   "execution_count": null,
   "id": "a723d1f4-4483-4688-b118-a950a0b7078f",
   "metadata": {},
   "outputs": [],
   "source": []
  },
  {
   "cell_type": "markdown",
   "id": "53a72809-efec-419e-863c-82173c0e94dd",
   "metadata": {},
   "source": [
    "String Based Questions"
   ]
  },
  {
   "cell_type": "code",
   "execution_count": 4,
   "id": "2af491ef-5658-4810-ab3d-8987f5d9f48b",
   "metadata": {},
   "outputs": [
    {
     "name": "stdin",
     "output_type": "stream",
     "text": [
      "Enter the String : Suraj\n"
     ]
    },
    {
     "name": "stdout",
     "output_type": "stream",
     "text": [
      "The length of string : 5\n"
     ]
    }
   ],
   "source": [
    "#Q1.\n",
    "str = input(\"Enter the String :\")\n",
    "print(\"The length of string :\",len(str))"
   ]
  },
  {
   "cell_type": "code",
   "execution_count": 5,
   "id": "13e56211-f6a5-4039-a335-d54bd25b7f06",
   "metadata": {},
   "outputs": [
    {
     "name": "stdin",
     "output_type": "stream",
     "text": [
      "Enter a sentence:  Hi! My Name is Suraj\n"
     ]
    },
    {
     "name": "stdout",
     "output_type": "stream",
     "text": [
      "Number of vowels: 6\n"
     ]
    }
   ],
   "source": [
    "#Q2.\n",
    "str = input(\"Enter a sentence: \")\n",
    "vowel_count = 0\n",
    "\n",
    "for char in str:\n",
    "    if char in 'aeiouAEIOU':\n",
    "        vowel_count = vowel_count+ 1\n",
    "\n",
    "print(\"Number of vowels:\", vowel_count)"
   ]
  },
  {
   "cell_type": "code",
   "execution_count": 6,
   "id": "4f8dbe8a-e03e-4181-946c-6b32d7f23ace",
   "metadata": {},
   "outputs": [
    {
     "name": "stdin",
     "output_type": "stream",
     "text": [
      "Enter the string : Suraj\n"
     ]
    },
    {
     "name": "stdout",
     "output_type": "stream",
     "text": [
      "Reverse String: jaruS\n"
     ]
    }
   ],
   "source": [
    "#Q3.\n",
    "str = input(\"Enter the string :\")\n",
    "\n",
    "reverse=str[::-1]\n",
    "print(\"Reverse String:\",reverse)"
   ]
  },
  {
   "cell_type": "code",
   "execution_count": 7,
   "id": "96adacd7-2c0d-4eb2-90cc-27d1c7fb723e",
   "metadata": {},
   "outputs": [
    {
     "name": "stdin",
     "output_type": "stream",
     "text": [
      "Enter a number 11\n"
     ]
    },
    {
     "name": "stdout",
     "output_type": "stream",
     "text": [
      "Yes its a palindrome\n"
     ]
    }
   ],
   "source": [
    "#Q4.\n",
    "num = input(\"Enter a number\")\n",
    "if num == num[::-1]:\n",
    "\tprint(\"Yes its a palindrome\")\n",
    "else:\n",
    "\tprint(\"No, its not a palindrome\")"
   ]
  },
  {
   "cell_type": "code",
   "execution_count": 8,
   "id": "ab41fe3a-808f-4dbf-9b71-a763d18c0f38",
   "metadata": {},
   "outputs": [
    {
     "name": "stdin",
     "output_type": "stream",
     "text": [
      "Enter a string:  My Name is Suraj\n"
     ]
    },
    {
     "name": "stdout",
     "output_type": "stream",
     "text": [
      "Modified string without spaces: MyNameisSuraj\n"
     ]
    }
   ],
   "source": [
    "#Q5.\n",
    "str = input(\"Enter a string: \")\n",
    "without_spaces = str.replace(\" \", \"\")\n",
    "\n",
    "print(\"Modified string without spaces:\", without_spaces)"
   ]
  },
  {
   "cell_type": "code",
   "execution_count": null,
   "id": "fec8287e-1bd0-4d0b-b2fe-c135664665f4",
   "metadata": {},
   "outputs": [],
   "source": []
  }
 ],
 "metadata": {
  "kernelspec": {
   "display_name": "Python 3 (ipykernel)",
   "language": "python",
   "name": "python3"
  },
  "language_info": {
   "codemirror_mode": {
    "name": "ipython",
    "version": 3
   },
   "file_extension": ".py",
   "mimetype": "text/x-python",
   "name": "python",
   "nbconvert_exporter": "python",
   "pygments_lexer": "ipython3",
   "version": "3.10.8"
  }
 },
 "nbformat": 4,
 "nbformat_minor": 5
}
